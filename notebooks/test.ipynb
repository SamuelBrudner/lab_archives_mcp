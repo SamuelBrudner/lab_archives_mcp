{
 "cells": [
  {
   "cell_type": "code",
   "execution_count": null,
   "id": "0",
   "metadata": {},
   "outputs": [],
   "source": [
    "from pathlib import Path\n",
    "\n",
    "secrets_path = Path(\"conf/secrets.yml\")\n",
    "if not secrets_path.exists():\n",
    "    raise FileNotFoundError(\n",
    "        \"Create conf/secrets.yml (see README) before running LabArchives calls.\"\n",
    "    )\n",
    "print(\"Secrets file located:\", secrets_path)"
   ]
  },
  {
   "cell_type": "code",
   "execution_count": null,
   "id": "1",
   "metadata": {},
   "outputs": [],
   "source": [
    "import httpx\n",
    "\n",
    "from labarchives_mcp.auth import AuthenticationManager, Credentials\n",
    "from labarchives_mcp.eln_client import LabArchivesClient\n",
    "\n",
    "\n",
    "async def fetch_notebooks():\n",
    "    credentials = Credentials.from_file()\n",
    "\n",
    "    async with httpx.AsyncClient(base_url=str(credentials.region)) as http_client:\n",
    "        auth_manager = AuthenticationManager(http_client, credentials)\n",
    "        uid = await auth_manager.ensure_uid()\n",
    "\n",
    "        client = LabArchivesClient(http_client, auth_manager)  # <-- Add auth_manager here\n",
    "        notebooks = await client.list_notebooks(uid)\n",
    "\n",
    "    return [nb.model_dump() for nb in notebooks]\n",
    "\n",
    "\n",
    "notebooks = await fetch_notebooks()\n",
    "print(notebooks)"
   ]
  }
 ],
 "metadata": {
  "kernelspec": {
   "display_name": "Python 3",
   "language": "python",
   "name": "python3"
  },
  "language_info": {
   "codemirror_mode": {
    "name": "ipython",
    "version": 3
   },
   "file_extension": ".py",
   "mimetype": "text/x-python",
   "name": "python",
   "nbconvert_exporter": "python",
   "pygments_lexer": "ipython3",
   "version": "3.11.13"
  }
 },
 "nbformat": 4,
 "nbformat_minor": 5
}
