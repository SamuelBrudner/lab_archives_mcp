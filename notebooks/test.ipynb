{
 "cells": [
  {
   "cell_type": "code",
   "execution_count": null,
   "id": "0",
   "metadata": {},
   "outputs": [],
   "source": [
    "import asyncio\n",
    "\n",
    "import httpx\n",
    "\n",
    "from labarchives_mcp.auth import AuthenticationManager, Credentials\n",
    "from labarchives_mcp.eln_client import LabArchivesClient\n",
    "\n",
    "\n",
    "async def fetch_notebooks() -> None:\n",
    "    credentials = Credentials.from_file(\"../conf/secrets.yml\")\n",
    "    async with httpx.AsyncClient(base_url=str(credentials.region)) as http_client:\n",
    "        auth_manager = AuthenticationManager(http_client, credentials)\n",
    "        uid = await auth_manager.ensure_uid()\n",
    "\n",
    "        client = LabArchivesClient(http_client)\n",
    "        notebooks = await client.list_notebooks(uid)\n",
    "\n",
    "    for notebook in notebooks:\n",
    "        print(\n",
    "            notebook.nbid,\n",
    "            notebook.name,\n",
    "            notebook.owner_email,\n",
    "            notebook.created_at,\n",
    "            notebook.modified_at,\n",
    "        )\n",
    "\n",
    "\n",
    "if __name__ == \"__main__\":\n",
    "    asyncio.run(fetch_notebooks())"
   ]
  }
 ],
 "metadata": {
  "kernelspec": {
   "display_name": "Python 3",
   "language": "python",
   "name": "python3"
  },
  "language_info": {
   "name": "python",
   "version": "3.11.13"
  }
 },
 "nbformat": 4,
 "nbformat_minor": 5
}
